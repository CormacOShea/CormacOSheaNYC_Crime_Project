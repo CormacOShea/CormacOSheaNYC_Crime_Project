{
  "nbformat": 4,
  "nbformat_minor": 0,
  "metadata": {
    "colab": {
      "name": "NYC_Crime.ipynb",
      "provenance": [],
      "collapsed_sections": [],
      "authorship_tag": "ABX9TyMn4FG2zVnr6lA2Jeb4J38V",
      "include_colab_link": true
    },
    "kernelspec": {
      "name": "python3",
      "display_name": "Python 3"
    },
    "language_info": {
      "name": "python"
    }
  },
  "cells": [
    {
      "cell_type": "markdown",
      "metadata": {
        "id": "view-in-github",
        "colab_type": "text"
      },
      "source": [
        "<a href=\"https://colab.research.google.com/github/CormacOShea/CormacOSheaNYC_Crime_Project/blob/main/NYC_Crime.ipynb\" target=\"_parent\"><img src=\"https://colab.research.google.com/assets/colab-badge.svg\" alt=\"Open In Colab\"/></a>"
      ]
    },
    {
      "cell_type": "code",
      "source": [
        "#About dataset\n",
        "#This dataset includes all the crimes reported in NYC from 2006 to 2016\n",
        "#The goal of this dataset is to see the crime activity in NYC over the years\n",
        "#Can we use machine learning to predict the locations(longitude and latitude)\n",
        "#of future crimes reported"
      ],
      "metadata": {
        "id": "gE8RmVJDubUp"
      },
      "execution_count": null,
      "outputs": []
    },
    {
      "cell_type": "code",
      "source": [
        "#Column meanings of the original dataset\n",
        "#CMPLNT_NUM - Randomly generated persistent ID for each complaint\n",
        "#CMPLNT_FR_DT - The Exact date of ocurrence for the reported event\n",
        "#CMPLNT_FR_TM - Exact time of occurence for the reported event.\n",
        "#CMPLNT_TO_DT - Ending date of occurence for the reported event, if exact time is unknown\n",
        "#CMPLNT_TO_TM - Ending time of occurence for the reported event, if exact date is unknown\n",
        "#ADDR_PCT_CD - The property in which the incident occured \n",
        "#RPT_DT - Date event was reported to the police\n",
        "#KY_CD - Three digit offencse classification code\n",
        "#OFNS_DESC - Description of offense corresponding with key code\n",
        "#PD_CD - Three digit internal classification code\n",
        "#PD_DESC - Description of interanl classificaton corresponding with PD code\n",
        "#CRM_ATPT_CPTD_CD - Indicator of whether crime was successfully completed or attempted, but failed \n",
        "#LAW_CAT_CD - Level of offense: felony, misdemeanoor, violation\n",
        "#BORO_NM - The name of the borough in which the incident occurred.\n",
        "#LOC_OF_OCCUR_DESC - Specific location of occurrence, in or around premises, front or back\n",
        "#PREM_TYP_DESC - Specific description of priemises; grocery store, street, etc.\n",
        "#JURIS_DESC - Description of the jurisdication code\n",
        "#JURISDICTION_CODE - Jurisdiction responsible for the incident. Either interanl, like police(0),\n",
        "#Transit(1), and Housing(2); or exteranl(3) like Correction, Port Authority, etc.\n",
        "#PARKS_NM - Name of NYC park of occurence\n",
        "#HADEVELOPT - Name of NYCHA housing development of occurence, if applicable\n",
        "#HOUSING_PSA - Development Level Code\n",
        "#X_COORD_CD - X-coordinate for New York State Plane Coordinate System\n",
        "#Y_COORD_CD - Y-coordinate for New York State Plane Coordinate System\n",
        "#SUSP_AGE_GROUP - Suspect's Age Group\n",
        "#SUSP_RACE - Suspect's Race Description\n",
        "#SUSP_SEX - Suspect's Sex Description\n",
        "#TRANSIT_DISTRICT - Transit district in which the offense occurred\n",
        "#Latitude - Midblock Latitude coordinate for Global Coordiante System\n",
        "#Longitude - Midblock Longtitude coordinate for Global Coordiante System\n",
        "#Lat_Lon - Geospatial Location Point (latitude and longitude combined)\n",
        "\n"
      ],
      "metadata": {
        "id": "QNasRGs4hbjq"
      },
      "execution_count": null,
      "outputs": []
    },
    {
      "cell_type": "code",
      "execution_count": 2,
      "metadata": {
        "colab": {
          "base_uri": "https://localhost:8080/"
        },
        "id": "l784zyzXa5dB",
        "outputId": "c7b8afbd-e5d9-4a21-c7cd-c673d881167c"
      },
      "outputs": [
        {
          "output_type": "stream",
          "name": "stderr",
          "text": [
            "/usr/local/lib/python3.7/dist-packages/IPython/core/interactiveshell.py:2718: DtypeWarning: Columns (17) have mixed types.Specify dtype option on import or set low_memory=False.\n",
            "  interactivity=interactivity, compiler=compiler, result=result)\n"
          ]
        }
      ],
      "source": [
        "#Input data files\n",
        "import pandas as pd\n",
        "import numpy as np\n",
        "\n",
        "df = pd.read_csv(\"NYPD_Complaint_Data_Historic.csv\")"
      ]
    },
    {
      "cell_type": "code",
      "source": [
        "#After viewing the head i have noticed some NaN values, i need to examine the \n",
        "#missing values first. The isna() function will do this.\n",
        "df.head()\n"
      ],
      "metadata": {
        "colab": {
          "base_uri": "https://localhost:8080/",
          "height": 400
        },
        "id": "XRRSnipMg29k",
        "outputId": "ad3bb64d-0f90-431e-c710-b4160d81259d"
      },
      "execution_count": null,
      "outputs": [
        {
          "output_type": "execute_result",
          "data": {
            "text/html": [
              "<div>\n",
              "<style scoped>\n",
              "    .dataframe tbody tr th:only-of-type {\n",
              "        vertical-align: middle;\n",
              "    }\n",
              "\n",
              "    .dataframe tbody tr th {\n",
              "        vertical-align: top;\n",
              "    }\n",
              "\n",
              "    .dataframe thead th {\n",
              "        text-align: right;\n",
              "    }\n",
              "</style>\n",
              "<table border=\"1\" class=\"dataframe\">\n",
              "  <thead>\n",
              "    <tr style=\"text-align: right;\">\n",
              "      <th></th>\n",
              "      <th>CMPLNT_NUM</th>\n",
              "      <th>CMPLNT_FR_DT</th>\n",
              "      <th>CMPLNT_FR_TM</th>\n",
              "      <th>CMPLNT_TO_DT</th>\n",
              "      <th>CMPLNT_TO_TM</th>\n",
              "      <th>RPT_DT</th>\n",
              "      <th>KY_CD</th>\n",
              "      <th>OFNS_DESC</th>\n",
              "      <th>PD_CD</th>\n",
              "      <th>PD_DESC</th>\n",
              "      <th>CRM_ATPT_CPTD_CD</th>\n",
              "      <th>LAW_CAT_CD</th>\n",
              "      <th>JURIS_DESC</th>\n",
              "      <th>BORO_NM</th>\n",
              "      <th>ADDR_PCT_CD</th>\n",
              "      <th>LOC_OF_OCCUR_DESC</th>\n",
              "      <th>PREM_TYP_DESC</th>\n",
              "      <th>PARKS_NM</th>\n",
              "      <th>HADEVELOPT</th>\n",
              "      <th>X_COORD_CD</th>\n",
              "      <th>Y_COORD_CD</th>\n",
              "      <th>Latitude</th>\n",
              "      <th>Longitude</th>\n",
              "      <th>Lat_Lon</th>\n",
              "    </tr>\n",
              "  </thead>\n",
              "  <tbody>\n",
              "    <tr>\n",
              "      <th>0</th>\n",
              "      <td>101109527</td>\n",
              "      <td>12/31/2015</td>\n",
              "      <td>23:45:00</td>\n",
              "      <td>NaN</td>\n",
              "      <td>NaN</td>\n",
              "      <td>12/31/2015</td>\n",
              "      <td>113</td>\n",
              "      <td>FORGERY</td>\n",
              "      <td>729.0</td>\n",
              "      <td>FORGERY,ETC.,UNCLASSIFIED-FELO</td>\n",
              "      <td>COMPLETED</td>\n",
              "      <td>FELONY</td>\n",
              "      <td>N.Y. POLICE DEPT</td>\n",
              "      <td>BRONX</td>\n",
              "      <td>44.0</td>\n",
              "      <td>INSIDE</td>\n",
              "      <td>BAR/NIGHT CLUB</td>\n",
              "      <td>NaN</td>\n",
              "      <td>NaN</td>\n",
              "      <td>1007314.0</td>\n",
              "      <td>241257.0</td>\n",
              "      <td>40.828848</td>\n",
              "      <td>-73.916661</td>\n",
              "      <td>(40.828848333, -73.916661142)</td>\n",
              "    </tr>\n",
              "    <tr>\n",
              "      <th>1</th>\n",
              "      <td>153401121</td>\n",
              "      <td>12/31/2015</td>\n",
              "      <td>23:36:00</td>\n",
              "      <td>NaN</td>\n",
              "      <td>NaN</td>\n",
              "      <td>12/31/2015</td>\n",
              "      <td>101</td>\n",
              "      <td>MURDER &amp; NON-NEGL. MANSLAUGHTER</td>\n",
              "      <td>NaN</td>\n",
              "      <td>NaN</td>\n",
              "      <td>COMPLETED</td>\n",
              "      <td>FELONY</td>\n",
              "      <td>N.Y. POLICE DEPT</td>\n",
              "      <td>QUEENS</td>\n",
              "      <td>103.0</td>\n",
              "      <td>OUTSIDE</td>\n",
              "      <td>NaN</td>\n",
              "      <td>NaN</td>\n",
              "      <td>NaN</td>\n",
              "      <td>1043991.0</td>\n",
              "      <td>193406.0</td>\n",
              "      <td>40.697338</td>\n",
              "      <td>-73.784557</td>\n",
              "      <td>(40.697338138, -73.784556739)</td>\n",
              "    </tr>\n",
              "    <tr>\n",
              "      <th>2</th>\n",
              "      <td>569369778</td>\n",
              "      <td>12/31/2015</td>\n",
              "      <td>23:30:00</td>\n",
              "      <td>NaN</td>\n",
              "      <td>NaN</td>\n",
              "      <td>12/31/2015</td>\n",
              "      <td>117</td>\n",
              "      <td>DANGEROUS DRUGS</td>\n",
              "      <td>503.0</td>\n",
              "      <td>CONTROLLED SUBSTANCE,INTENT TO</td>\n",
              "      <td>COMPLETED</td>\n",
              "      <td>FELONY</td>\n",
              "      <td>N.Y. POLICE DEPT</td>\n",
              "      <td>MANHATTAN</td>\n",
              "      <td>28.0</td>\n",
              "      <td>NaN</td>\n",
              "      <td>OTHER</td>\n",
              "      <td>NaN</td>\n",
              "      <td>NaN</td>\n",
              "      <td>999463.0</td>\n",
              "      <td>231690.0</td>\n",
              "      <td>40.802607</td>\n",
              "      <td>-73.945052</td>\n",
              "      <td>(40.802606608, -73.945051911)</td>\n",
              "    </tr>\n",
              "    <tr>\n",
              "      <th>3</th>\n",
              "      <td>968417082</td>\n",
              "      <td>12/31/2015</td>\n",
              "      <td>23:30:00</td>\n",
              "      <td>NaN</td>\n",
              "      <td>NaN</td>\n",
              "      <td>12/31/2015</td>\n",
              "      <td>344</td>\n",
              "      <td>ASSAULT 3 &amp; RELATED OFFENSES</td>\n",
              "      <td>101.0</td>\n",
              "      <td>ASSAULT 3</td>\n",
              "      <td>COMPLETED</td>\n",
              "      <td>MISDEMEANOR</td>\n",
              "      <td>N.Y. POLICE DEPT</td>\n",
              "      <td>QUEENS</td>\n",
              "      <td>105.0</td>\n",
              "      <td>INSIDE</td>\n",
              "      <td>RESIDENCE-HOUSE</td>\n",
              "      <td>NaN</td>\n",
              "      <td>NaN</td>\n",
              "      <td>1060183.0</td>\n",
              "      <td>177862.0</td>\n",
              "      <td>40.654549</td>\n",
              "      <td>-73.726339</td>\n",
              "      <td>(40.654549444, -73.726338791)</td>\n",
              "    </tr>\n",
              "    <tr>\n",
              "      <th>4</th>\n",
              "      <td>641637920</td>\n",
              "      <td>12/31/2015</td>\n",
              "      <td>23:25:00</td>\n",
              "      <td>12/31/2015</td>\n",
              "      <td>23:30:00</td>\n",
              "      <td>12/31/2015</td>\n",
              "      <td>344</td>\n",
              "      <td>ASSAULT 3 &amp; RELATED OFFENSES</td>\n",
              "      <td>101.0</td>\n",
              "      <td>ASSAULT 3</td>\n",
              "      <td>COMPLETED</td>\n",
              "      <td>MISDEMEANOR</td>\n",
              "      <td>N.Y. POLICE DEPT</td>\n",
              "      <td>MANHATTAN</td>\n",
              "      <td>13.0</td>\n",
              "      <td>FRONT OF</td>\n",
              "      <td>OTHER</td>\n",
              "      <td>NaN</td>\n",
              "      <td>NaN</td>\n",
              "      <td>987606.0</td>\n",
              "      <td>208148.0</td>\n",
              "      <td>40.738002</td>\n",
              "      <td>-73.987891</td>\n",
              "      <td>(40.7380024, -73.98789129)</td>\n",
              "    </tr>\n",
              "  </tbody>\n",
              "</table>\n",
              "</div>"
            ],
            "text/plain": [
              "   CMPLNT_NUM CMPLNT_FR_DT  ...  Longitude                        Lat_Lon\n",
              "0   101109527   12/31/2015  ... -73.916661  (40.828848333, -73.916661142)\n",
              "1   153401121   12/31/2015  ... -73.784557  (40.697338138, -73.784556739)\n",
              "2   569369778   12/31/2015  ... -73.945052  (40.802606608, -73.945051911)\n",
              "3   968417082   12/31/2015  ... -73.726339  (40.654549444, -73.726338791)\n",
              "4   641637920   12/31/2015  ... -73.987891     (40.7380024, -73.98789129)\n",
              "\n",
              "[5 rows x 24 columns]"
            ]
          },
          "metadata": {},
          "execution_count": 2
        }
      ]
    },
    {
      "cell_type": "code",
      "source": [
        "#Check the size of the dataset\n",
        "#There is 1048575 observations\n",
        "#24 variables\n",
        "df.shape"
      ],
      "metadata": {
        "colab": {
          "base_uri": "https://localhost:8080/"
        },
        "id": "ydvdaMqKvvA5",
        "outputId": "ab4edbb1-3ec3-424c-f367-ab62c9f426f2"
      },
      "execution_count": null,
      "outputs": [
        {
          "output_type": "execute_result",
          "data": {
            "text/plain": [
              "(1048575, 24)"
            ]
          },
          "metadata": {},
          "execution_count": 3
        }
      ]
    },
    {
      "cell_type": "code",
      "source": [
        "percent_missing = df.isnull().sum() * 100 / len(df)\n",
        "missing_value_df = pd.DataFrame({'column_name': df.columns,\n",
        "                                 'percent_missing': percent_missing})\n",
        "missing_value_df.sort_values('percent_missing',inplace=True)"
      ],
      "metadata": {
        "id": "7LcFo7W5ywJA"
      },
      "execution_count": null,
      "outputs": []
    },
    {
      "cell_type": "code",
      "source": [
        "missing_value_df"
      ],
      "metadata": {
        "colab": {
          "base_uri": "https://localhost:8080/",
          "height": 802
        },
        "id": "q4XH7MVkM_7t",
        "outputId": "6e990b4b-23e2-4a4f-9424-0bc9e10fcc50"
      },
      "execution_count": null,
      "outputs": [
        {
          "output_type": "execute_result",
          "data": {
            "text/html": [
              "<div>\n",
              "<style scoped>\n",
              "    .dataframe tbody tr th:only-of-type {\n",
              "        vertical-align: middle;\n",
              "    }\n",
              "\n",
              "    .dataframe tbody tr th {\n",
              "        vertical-align: top;\n",
              "    }\n",
              "\n",
              "    .dataframe thead th {\n",
              "        text-align: right;\n",
              "    }\n",
              "</style>\n",
              "<table border=\"1\" class=\"dataframe\">\n",
              "  <thead>\n",
              "    <tr style=\"text-align: right;\">\n",
              "      <th></th>\n",
              "      <th>column_name</th>\n",
              "      <th>percent_missing</th>\n",
              "    </tr>\n",
              "  </thead>\n",
              "  <tbody>\n",
              "    <tr>\n",
              "      <th>CMPLNT_NUM</th>\n",
              "      <td>CMPLNT_NUM</td>\n",
              "      <td>0.000000</td>\n",
              "    </tr>\n",
              "    <tr>\n",
              "      <th>BORO_NM</th>\n",
              "      <td>BORO_NM</td>\n",
              "      <td>0.000000</td>\n",
              "    </tr>\n",
              "    <tr>\n",
              "      <th>JURIS_DESC</th>\n",
              "      <td>JURIS_DESC</td>\n",
              "      <td>0.000000</td>\n",
              "    </tr>\n",
              "    <tr>\n",
              "      <th>KY_CD</th>\n",
              "      <td>KY_CD</td>\n",
              "      <td>0.000000</td>\n",
              "    </tr>\n",
              "    <tr>\n",
              "      <th>RPT_DT</th>\n",
              "      <td>RPT_DT</td>\n",
              "      <td>0.000000</td>\n",
              "    </tr>\n",
              "    <tr>\n",
              "      <th>LAW_CAT_CD</th>\n",
              "      <td>LAW_CAT_CD</td>\n",
              "      <td>0.000000</td>\n",
              "    </tr>\n",
              "    <tr>\n",
              "      <th>CMPLNT_FR_TM</th>\n",
              "      <td>CMPLNT_FR_TM</td>\n",
              "      <td>0.000000</td>\n",
              "    </tr>\n",
              "    <tr>\n",
              "      <th>ADDR_PCT_CD</th>\n",
              "      <td>ADDR_PCT_CD</td>\n",
              "      <td>0.000095</td>\n",
              "    </tr>\n",
              "    <tr>\n",
              "      <th>CRM_ATPT_CPTD_CD</th>\n",
              "      <td>CRM_ATPT_CPTD_CD</td>\n",
              "      <td>0.000095</td>\n",
              "    </tr>\n",
              "    <tr>\n",
              "      <th>CMPLNT_FR_DT</th>\n",
              "      <td>CMPLNT_FR_DT</td>\n",
              "      <td>0.006199</td>\n",
              "    </tr>\n",
              "    <tr>\n",
              "      <th>PD_CD</th>\n",
              "      <td>PD_CD</td>\n",
              "      <td>0.069904</td>\n",
              "    </tr>\n",
              "    <tr>\n",
              "      <th>PD_DESC</th>\n",
              "      <td>PD_DESC</td>\n",
              "      <td>0.069904</td>\n",
              "    </tr>\n",
              "    <tr>\n",
              "      <th>OFNS_DESC</th>\n",
              "      <td>OFNS_DESC</td>\n",
              "      <td>0.274658</td>\n",
              "    </tr>\n",
              "    <tr>\n",
              "      <th>PREM_TYP_DESC</th>\n",
              "      <td>PREM_TYP_DESC</td>\n",
              "      <td>0.447178</td>\n",
              "    </tr>\n",
              "    <tr>\n",
              "      <th>Latitude</th>\n",
              "      <td>Latitude</td>\n",
              "      <td>3.091529</td>\n",
              "    </tr>\n",
              "    <tr>\n",
              "      <th>Y_COORD_CD</th>\n",
              "      <td>Y_COORD_CD</td>\n",
              "      <td>3.091529</td>\n",
              "    </tr>\n",
              "    <tr>\n",
              "      <th>X_COORD_CD</th>\n",
              "      <td>X_COORD_CD</td>\n",
              "      <td>3.091529</td>\n",
              "    </tr>\n",
              "    <tr>\n",
              "      <th>Lat_Lon</th>\n",
              "      <td>Lat_Lon</td>\n",
              "      <td>3.091529</td>\n",
              "    </tr>\n",
              "    <tr>\n",
              "      <th>Longitude</th>\n",
              "      <td>Longitude</td>\n",
              "      <td>3.091529</td>\n",
              "    </tr>\n",
              "    <tr>\n",
              "      <th>CMPLNT_TO_TM</th>\n",
              "      <td>CMPLNT_TO_TM</td>\n",
              "      <td>19.604988</td>\n",
              "    </tr>\n",
              "    <tr>\n",
              "      <th>CMPLNT_TO_DT</th>\n",
              "      <td>CMPLNT_TO_DT</td>\n",
              "      <td>19.641800</td>\n",
              "    </tr>\n",
              "    <tr>\n",
              "      <th>LOC_OF_OCCUR_DESC</th>\n",
              "      <td>LOC_OF_OCCUR_DESC</td>\n",
              "      <td>20.766469</td>\n",
              "    </tr>\n",
              "    <tr>\n",
              "      <th>HADEVELOPT</th>\n",
              "      <td>HADEVELOPT</td>\n",
              "      <td>95.062633</td>\n",
              "    </tr>\n",
              "    <tr>\n",
              "      <th>PARKS_NM</th>\n",
              "      <td>PARKS_NM</td>\n",
              "      <td>99.275302</td>\n",
              "    </tr>\n",
              "  </tbody>\n",
              "</table>\n",
              "</div>"
            ],
            "text/plain": [
              "                         column_name  percent_missing\n",
              "CMPLNT_NUM                CMPLNT_NUM         0.000000\n",
              "BORO_NM                      BORO_NM         0.000000\n",
              "JURIS_DESC                JURIS_DESC         0.000000\n",
              "KY_CD                          KY_CD         0.000000\n",
              "RPT_DT                        RPT_DT         0.000000\n",
              "LAW_CAT_CD                LAW_CAT_CD         0.000000\n",
              "CMPLNT_FR_TM            CMPLNT_FR_TM         0.000000\n",
              "ADDR_PCT_CD              ADDR_PCT_CD         0.000095\n",
              "CRM_ATPT_CPTD_CD    CRM_ATPT_CPTD_CD         0.000095\n",
              "CMPLNT_FR_DT            CMPLNT_FR_DT         0.006199\n",
              "PD_CD                          PD_CD         0.069904\n",
              "PD_DESC                      PD_DESC         0.069904\n",
              "OFNS_DESC                  OFNS_DESC         0.274658\n",
              "PREM_TYP_DESC          PREM_TYP_DESC         0.447178\n",
              "Latitude                    Latitude         3.091529\n",
              "Y_COORD_CD                Y_COORD_CD         3.091529\n",
              "X_COORD_CD                X_COORD_CD         3.091529\n",
              "Lat_Lon                      Lat_Lon         3.091529\n",
              "Longitude                  Longitude         3.091529\n",
              "CMPLNT_TO_TM            CMPLNT_TO_TM        19.604988\n",
              "CMPLNT_TO_DT            CMPLNT_TO_DT        19.641800\n",
              "LOC_OF_OCCUR_DESC  LOC_OF_OCCUR_DESC        20.766469\n",
              "HADEVELOPT                HADEVELOPT        95.062633\n",
              "PARKS_NM                    PARKS_NM        99.275302"
            ]
          },
          "metadata": {},
          "execution_count": 5
        }
      ]
    },
    {
      "cell_type": "code",
      "source": [
        "#As we can see below there is quite a bit of data missing from some columns\n",
        "#I will drop \"Parks_NM\" and \"HADEVELOPT\" columns as almost all the data \n",
        "# in these columns are null. I will further inspect the two columns with 19%\n",
        "#of data missing\n",
        "percent_missing"
      ],
      "metadata": {
        "id": "p9bzKPvTzozs"
      },
      "execution_count": null,
      "outputs": []
    },
    {
      "cell_type": "code",
      "source": [
        "df.drop(['PARKS_NM','HADEVELOPT'],axis=1,inplace=True)"
      ],
      "metadata": {
        "id": "rNhi4jM91PIk"
      },
      "execution_count": 3,
      "outputs": []
    },
    {
      "cell_type": "code",
      "source": [
        "df.head()"
      ],
      "metadata": {
        "colab": {
          "base_uri": "https://localhost:8080/",
          "height": 444
        },
        "id": "xDYtPqfT11Rr",
        "outputId": "0ca63dce-9ce8-4f19-903f-277e19c49d7a"
      },
      "execution_count": 114,
      "outputs": [
        {
          "output_type": "execute_result",
          "data": {
            "text/html": [
              "\n",
              "  <div id=\"df-ad0e731c-da36-43d3-a91e-5f11a3be1d7c\">\n",
              "    <div class=\"colab-df-container\">\n",
              "      <div>\n",
              "<style scoped>\n",
              "    .dataframe tbody tr th:only-of-type {\n",
              "        vertical-align: middle;\n",
              "    }\n",
              "\n",
              "    .dataframe tbody tr th {\n",
              "        vertical-align: top;\n",
              "    }\n",
              "\n",
              "    .dataframe thead th {\n",
              "        text-align: right;\n",
              "    }\n",
              "</style>\n",
              "<table border=\"1\" class=\"dataframe\">\n",
              "  <thead>\n",
              "    <tr style=\"text-align: right;\">\n",
              "      <th></th>\n",
              "      <th>CMPLNT_NUM</th>\n",
              "      <th>CMPLNT_FR_DT</th>\n",
              "      <th>Month</th>\n",
              "      <th>Year</th>\n",
              "      <th>CMPLNT_FR_TM</th>\n",
              "      <th>Time</th>\n",
              "      <th>RPT_DT</th>\n",
              "      <th>KY_CD</th>\n",
              "      <th>OFNS_DESC</th>\n",
              "      <th>PD_CD</th>\n",
              "      <th>PD_DESC</th>\n",
              "      <th>CRM_ATPT_CPTD_CD</th>\n",
              "      <th>LAW_CAT_CD</th>\n",
              "      <th>JURIS_DESC</th>\n",
              "      <th>BORO_NM</th>\n",
              "      <th>ADDR_PCT_CD</th>\n",
              "      <th>LOC_OF_OCCUR_DESC</th>\n",
              "      <th>PREM_TYP_DESC</th>\n",
              "      <th>PARKS_NM</th>\n",
              "      <th>HADEVELOPT</th>\n",
              "      <th>X_COORD_CD</th>\n",
              "      <th>Y_COORD_CD</th>\n",
              "      <th>Latitude</th>\n",
              "      <th>Longitude</th>\n",
              "      <th>Lat_Lon</th>\n",
              "      <th>date2</th>\n",
              "    </tr>\n",
              "  </thead>\n",
              "  <tbody>\n",
              "    <tr>\n",
              "      <th>0</th>\n",
              "      <td>101109527</td>\n",
              "      <td>12/31/2015</td>\n",
              "      <td>12</td>\n",
              "      <td>2015</td>\n",
              "      <td>23:45:00</td>\n",
              "      <td>23</td>\n",
              "      <td>12/31/2015</td>\n",
              "      <td>113</td>\n",
              "      <td>FORGERY</td>\n",
              "      <td>729</td>\n",
              "      <td>FORGERY,ETC.,UNCLASSIFIED-FELO</td>\n",
              "      <td>COMPLETED</td>\n",
              "      <td>FELONY</td>\n",
              "      <td>N.Y. POLICE DEPT</td>\n",
              "      <td>BRONX</td>\n",
              "      <td>44</td>\n",
              "      <td>INSIDE</td>\n",
              "      <td>BAR/NIGHT CLUB</td>\n",
              "      <td>UNKNOWN</td>\n",
              "      <td>UNKNOWN</td>\n",
              "      <td>1.00731e+06</td>\n",
              "      <td>241257</td>\n",
              "      <td>40.8288</td>\n",
              "      <td>-73.9167</td>\n",
              "      <td>(40.828848333, -73.916661142)</td>\n",
              "      <td>2015-12-31</td>\n",
              "    </tr>\n",
              "    <tr>\n",
              "      <th>1</th>\n",
              "      <td>153401121</td>\n",
              "      <td>12/31/2015</td>\n",
              "      <td>12</td>\n",
              "      <td>2015</td>\n",
              "      <td>23:36:00</td>\n",
              "      <td>23</td>\n",
              "      <td>12/31/2015</td>\n",
              "      <td>101</td>\n",
              "      <td>MURDER &amp; NON-NEGL. MANSLAUGHTER</td>\n",
              "      <td>UNKNOWN</td>\n",
              "      <td>UNKNOWN</td>\n",
              "      <td>COMPLETED</td>\n",
              "      <td>FELONY</td>\n",
              "      <td>N.Y. POLICE DEPT</td>\n",
              "      <td>QUEENS</td>\n",
              "      <td>103</td>\n",
              "      <td>OUTSIDE</td>\n",
              "      <td>False</td>\n",
              "      <td>UNKNOWN</td>\n",
              "      <td>UNKNOWN</td>\n",
              "      <td>1.04399e+06</td>\n",
              "      <td>193406</td>\n",
              "      <td>40.6973</td>\n",
              "      <td>-73.7846</td>\n",
              "      <td>(40.697338138, -73.784556739)</td>\n",
              "      <td>2015-12-31</td>\n",
              "    </tr>\n",
              "    <tr>\n",
              "      <th>2</th>\n",
              "      <td>569369778</td>\n",
              "      <td>12/31/2015</td>\n",
              "      <td>12</td>\n",
              "      <td>2015</td>\n",
              "      <td>23:30:00</td>\n",
              "      <td>23</td>\n",
              "      <td>12/31/2015</td>\n",
              "      <td>117</td>\n",
              "      <td>DANGEROUS DRUGS</td>\n",
              "      <td>503</td>\n",
              "      <td>CONTROLLED SUBSTANCE,INTENT TO</td>\n",
              "      <td>COMPLETED</td>\n",
              "      <td>FELONY</td>\n",
              "      <td>N.Y. POLICE DEPT</td>\n",
              "      <td>MANHATTAN</td>\n",
              "      <td>28</td>\n",
              "      <td>UNKNOWN</td>\n",
              "      <td>OTHER</td>\n",
              "      <td>UNKNOWN</td>\n",
              "      <td>UNKNOWN</td>\n",
              "      <td>999463</td>\n",
              "      <td>231690</td>\n",
              "      <td>40.8026</td>\n",
              "      <td>-73.9451</td>\n",
              "      <td>(40.802606608, -73.945051911)</td>\n",
              "      <td>2015-12-31</td>\n",
              "    </tr>\n",
              "    <tr>\n",
              "      <th>3</th>\n",
              "      <td>968417082</td>\n",
              "      <td>12/31/2015</td>\n",
              "      <td>12</td>\n",
              "      <td>2015</td>\n",
              "      <td>23:30:00</td>\n",
              "      <td>23</td>\n",
              "      <td>12/31/2015</td>\n",
              "      <td>344</td>\n",
              "      <td>ASSAULT 3 &amp; RELATED OFFENSES</td>\n",
              "      <td>101</td>\n",
              "      <td>ASSAULT 3</td>\n",
              "      <td>COMPLETED</td>\n",
              "      <td>MISDEMEANOR</td>\n",
              "      <td>N.Y. POLICE DEPT</td>\n",
              "      <td>QUEENS</td>\n",
              "      <td>105</td>\n",
              "      <td>INSIDE</td>\n",
              "      <td>RESIDENCE-HOUSE</td>\n",
              "      <td>UNKNOWN</td>\n",
              "      <td>UNKNOWN</td>\n",
              "      <td>1.06018e+06</td>\n",
              "      <td>177862</td>\n",
              "      <td>40.6545</td>\n",
              "      <td>-73.7263</td>\n",
              "      <td>(40.654549444, -73.726338791)</td>\n",
              "      <td>2015-12-31</td>\n",
              "    </tr>\n",
              "    <tr>\n",
              "      <th>4</th>\n",
              "      <td>641637920</td>\n",
              "      <td>12/31/2015</td>\n",
              "      <td>12</td>\n",
              "      <td>2015</td>\n",
              "      <td>23:25:00</td>\n",
              "      <td>23</td>\n",
              "      <td>12/31/2015</td>\n",
              "      <td>344</td>\n",
              "      <td>ASSAULT 3 &amp; RELATED OFFENSES</td>\n",
              "      <td>101</td>\n",
              "      <td>ASSAULT 3</td>\n",
              "      <td>COMPLETED</td>\n",
              "      <td>MISDEMEANOR</td>\n",
              "      <td>N.Y. POLICE DEPT</td>\n",
              "      <td>MANHATTAN</td>\n",
              "      <td>13</td>\n",
              "      <td>FRONT OF</td>\n",
              "      <td>OTHER</td>\n",
              "      <td>UNKNOWN</td>\n",
              "      <td>UNKNOWN</td>\n",
              "      <td>987606</td>\n",
              "      <td>208148</td>\n",
              "      <td>40.738</td>\n",
              "      <td>-73.9879</td>\n",
              "      <td>(40.7380024, -73.98789129)</td>\n",
              "      <td>2015-12-31</td>\n",
              "    </tr>\n",
              "  </tbody>\n",
              "</table>\n",
              "</div>\n",
              "      <button class=\"colab-df-convert\" onclick=\"convertToInteractive('df-ad0e731c-da36-43d3-a91e-5f11a3be1d7c')\"\n",
              "              title=\"Convert this dataframe to an interactive table.\"\n",
              "              style=\"display:none;\">\n",
              "        \n",
              "  <svg xmlns=\"http://www.w3.org/2000/svg\" height=\"24px\"viewBox=\"0 0 24 24\"\n",
              "       width=\"24px\">\n",
              "    <path d=\"M0 0h24v24H0V0z\" fill=\"none\"/>\n",
              "    <path d=\"M18.56 5.44l.94 2.06.94-2.06 2.06-.94-2.06-.94-.94-2.06-.94 2.06-2.06.94zm-11 1L8.5 8.5l.94-2.06 2.06-.94-2.06-.94L8.5 2.5l-.94 2.06-2.06.94zm10 10l.94 2.06.94-2.06 2.06-.94-2.06-.94-.94-2.06-.94 2.06-2.06.94z\"/><path d=\"M17.41 7.96l-1.37-1.37c-.4-.4-.92-.59-1.43-.59-.52 0-1.04.2-1.43.59L10.3 9.45l-7.72 7.72c-.78.78-.78 2.05 0 2.83L4 21.41c.39.39.9.59 1.41.59.51 0 1.02-.2 1.41-.59l7.78-7.78 2.81-2.81c.8-.78.8-2.07 0-2.86zM5.41 20L4 18.59l7.72-7.72 1.47 1.35L5.41 20z\"/>\n",
              "  </svg>\n",
              "      </button>\n",
              "      \n",
              "  <style>\n",
              "    .colab-df-container {\n",
              "      display:flex;\n",
              "      flex-wrap:wrap;\n",
              "      gap: 12px;\n",
              "    }\n",
              "\n",
              "    .colab-df-convert {\n",
              "      background-color: #E8F0FE;\n",
              "      border: none;\n",
              "      border-radius: 50%;\n",
              "      cursor: pointer;\n",
              "      display: none;\n",
              "      fill: #1967D2;\n",
              "      height: 32px;\n",
              "      padding: 0 0 0 0;\n",
              "      width: 32px;\n",
              "    }\n",
              "\n",
              "    .colab-df-convert:hover {\n",
              "      background-color: #E2EBFA;\n",
              "      box-shadow: 0px 1px 2px rgba(60, 64, 67, 0.3), 0px 1px 3px 1px rgba(60, 64, 67, 0.15);\n",
              "      fill: #174EA6;\n",
              "    }\n",
              "\n",
              "    [theme=dark] .colab-df-convert {\n",
              "      background-color: #3B4455;\n",
              "      fill: #D2E3FC;\n",
              "    }\n",
              "\n",
              "    [theme=dark] .colab-df-convert:hover {\n",
              "      background-color: #434B5C;\n",
              "      box-shadow: 0px 1px 3px 1px rgba(0, 0, 0, 0.15);\n",
              "      filter: drop-shadow(0px 1px 2px rgba(0, 0, 0, 0.3));\n",
              "      fill: #FFFFFF;\n",
              "    }\n",
              "  </style>\n",
              "\n",
              "      <script>\n",
              "        const buttonEl =\n",
              "          document.querySelector('#df-ad0e731c-da36-43d3-a91e-5f11a3be1d7c button.colab-df-convert');\n",
              "        buttonEl.style.display =\n",
              "          google.colab.kernel.accessAllowed ? 'block' : 'none';\n",
              "\n",
              "        async function convertToInteractive(key) {\n",
              "          const element = document.querySelector('#df-ad0e731c-da36-43d3-a91e-5f11a3be1d7c');\n",
              "          const dataTable =\n",
              "            await google.colab.kernel.invokeFunction('convertToInteractive',\n",
              "                                                     [key], {});\n",
              "          if (!dataTable) return;\n",
              "\n",
              "          const docLinkHtml = 'Like what you see? Visit the ' +\n",
              "            '<a target=\"_blank\" href=https://colab.research.google.com/notebooks/data_table.ipynb>data table notebook</a>'\n",
              "            + ' to learn more about interactive tables.';\n",
              "          element.innerHTML = '';\n",
              "          dataTable['output_type'] = 'display_data';\n",
              "          await google.colab.output.renderOutput(dataTable, element);\n",
              "          const docLink = document.createElement('div');\n",
              "          docLink.innerHTML = docLinkHtml;\n",
              "          element.appendChild(docLink);\n",
              "        }\n",
              "      </script>\n",
              "    </div>\n",
              "  </div>\n",
              "  "
            ],
            "text/plain": [
              "   CMPLNT_NUM CMPLNT_FR_DT  ...                        Lat_Lon      date2\n",
              "0   101109527   12/31/2015  ...  (40.828848333, -73.916661142) 2015-12-31\n",
              "1   153401121   12/31/2015  ...  (40.697338138, -73.784556739) 2015-12-31\n",
              "2   569369778   12/31/2015  ...  (40.802606608, -73.945051911) 2015-12-31\n",
              "3   968417082   12/31/2015  ...  (40.654549444, -73.726338791) 2015-12-31\n",
              "4   641637920   12/31/2015  ...     (40.7380024, -73.98789129) 2015-12-31\n",
              "\n",
              "[5 rows x 26 columns]"
            ]
          },
          "metadata": {},
          "execution_count": 114
        }
      ]
    },
    {
      "cell_type": "code",
      "source": [
        "#Here i have filled all the nan values with \"UNKNOWN\" to explain to the user that the values are unknown.\n",
        "df.fillna('UNKNOWN', inplace=True)"
      ],
      "metadata": {
        "id": "GVO31yEl40Vk"
      },
      "execution_count": 4,
      "outputs": []
    },
    {
      "cell_type": "code",
      "source": [
        "#Exploratory Analysis using charts and stuff.\n",
        "#Scatter plot to show where the reported crimes are by longitude and latitude\n",
        "#The problem here is that there is overplotting, it's difficult to see how \n",
        "#densely-packed the data points are when many of them are in small are.\n",
        "\n",
        "#Get the color for each borough so it looks better!!!!\n",
        "import matplotlib.pyplot as plt\n",
        "plt.style.use('seaborn-whitegrid')\n",
        "plt.scatter(x=df['Longitude'], y=df['Latitude'])\n",
        "plt.show()\n"
      ],
      "metadata": {
        "id": "F6CvlJEh5w97",
        "colab": {
          "base_uri": "https://localhost:8080/",
          "height": 262
        },
        "outputId": "c8d4e3b8-ac51-4738-9d5d-2e858e407049"
      },
      "execution_count": null,
      "outputs": [
        {
          "output_type": "display_data",
          "data": {
            "image/png": "[encoded data removed]",
            "text/plain": [
              "<Figure size 432x288 with 1 Axes>"
            ]
          },
          "metadata": {}
        }
      ]
    },
    {
      "cell_type": "code",
      "source": [
        "df['RPT_DT']"
      ],
      "metadata": {
        "colab": {
          "base_uri": "https://localhost:8080/"
        },
        "id": "qscJdWI_aHlf",
        "outputId": "14c1669f-331e-4083-bf77-96dd0ff88a6d"
      },
      "execution_count": null,
      "outputs": [
        {
          "output_type": "execute_result",
          "data": {
            "text/plain": [
              "0          23:45:00\n",
              "1          23:36:00\n",
              "2          23:30:00\n",
              "3          23:30:00\n",
              "4          23:25:00\n",
              "             ...   \n",
              "1048570    20:30:00\n",
              "1048571    20:28:00\n",
              "1048572    20:25:00\n",
              "1048573    20:25:00\n",
              "1048574    20:25:00\n",
              "Name: CMPLNT_FR_TM, Length: 1048575, dtype: object"
            ]
          },
          "metadata": {},
          "execution_count": 57
        }
      ]
    },
    {
      "cell_type": "code",
      "source": [
        "#Dividing up the times into sections of the day to see\n",
        "#what time of the day crime is most reported\n",
        "#After farther analysis, there is not much point in doing this.\n",
        "df['Time of Day'] = (df['CMPLNT_FR_TM'].dt.hour % 24 + 4) // 4\n",
        "df['Time of Day'].replace({1: 'Late Night',\n",
        "                      2: 'Early Morning',\n",
        "                      3: 'Morning',\n",
        "                      4: 'Noon',\n",
        "                      5: 'Evening',\n",
        "                      6: 'Night'}, inplace=True)"
      ],
      "metadata": {
        "id": "zErp0p5jZIFU"
      },
      "execution_count": null,
      "outputs": []
    },
    {
      "cell_type": "code",
      "source": [
        "#Top 5 types of crimes reported in NYC\n",
        "df.OFNS_DESC.value_counts().iloc[:5].sort_values().plot(kind=\"barh\", title = \"Types of Crimes Reported in NYC\")"
      ],
      "metadata": {
        "colab": {
          "base_uri": "https://localhost:8080/",
          "height": 294
        },
        "id": "2E2mRhoGbJ9j",
        "outputId": "0fb25b84-d431-4b6b-f05c-faf674d206ad"
      },
      "execution_count": null,
      "outputs": [
        {
          "output_type": "execute_result",
          "data": {
            "text/plain": [
              "<matplotlib.axes._subplots.AxesSubplot at 0x7fbb587fe090>"
            ]
          },
          "metadata": {},
          "execution_count": 62
        },
        {
          "output_type": "display_data",
          "data": {
            "image/png": "[encoded data removed]",
            "text/plain": [
              "<Figure size 432x288 with 1 Axes>"
            ]
          },
          "metadata": {}
        }
      ]
    },
    {
      "cell_type": "code",
      "source": [
        "df.info()"
      ],
      "metadata": {
        "id": "Q6riSiFlhf4S"
      },
      "execution_count": null,
      "outputs": []
    },
    {
      "cell_type": "code",
      "source": [
        "(df['PREM_TYP_DESC'] == 'BAR/NIGHT CLUB').sum()"
      ],
      "metadata": {
        "colab": {
          "base_uri": "https://localhost:8080/"
        },
        "id": "3Zi04_2sNjeg",
        "outputId": "9c84e893-f134-4354-ac72-928a51fa1814"
      },
      "execution_count": null,
      "outputs": [
        {
          "output_type": "execute_result",
          "data": {
            "text/plain": [
              "12484"
            ]
          },
          "metadata": {},
          "execution_count": 130
        }
      ]
    },
    {
      "cell_type": "code",
      "source": [
        "#When trying to convert the column to a datetime object i get the error\n",
        "#'Out of bounds nanosecond timestamp', after doing some research\n",
        "#there are errors with the dates in the column like the year '1015' is in there\n",
        "#that should be 2015\n",
        "df['date2'] = pd.to_datetime(df['RPT_DT'], errors ='coerce')"
      ],
      "metadata": {
        "id": "J-dnYOHya1HQ"
      },
      "execution_count": 5,
      "outputs": []
    },
    {
      "cell_type": "code",
      "source": [
        "#Here it is shown\n",
        "#I will have to workaround this error \n",
        "df[df['date2'].isna()]"
      ],
      "metadata": {
        "colab": {
          "base_uri": "https://localhost:8080/",
          "height": 351
        },
        "id": "rAAxb1n3cISK",
        "outputId": "4519315c-33ce-4a63-f270-2b5df9f8d6de"
      },
      "execution_count": null,
      "outputs": [
        {
          "output_type": "execute_result",
          "data": {
            "text/html": [
              "<div>\n",
              "<style scoped>\n",
              "    .dataframe tbody tr th:only-of-type {\n",
              "        vertical-align: middle;\n",
              "    }\n",
              "\n",
              "    .dataframe tbody tr th {\n",
              "        vertical-align: top;\n",
              "    }\n",
              "\n",
              "    .dataframe thead th {\n",
              "        text-align: right;\n",
              "    }\n",
              "</style>\n",
              "<table border=\"1\" class=\"dataframe\">\n",
              "  <thead>\n",
              "    <tr style=\"text-align: right;\">\n",
              "      <th></th>\n",
              "      <th>CMPLNT_NUM</th>\n",
              "      <th>CMPLNT_FR_DT</th>\n",
              "      <th>CMPLNT_FR_TM</th>\n",
              "      <th>CMPLNT_TO_DT</th>\n",
              "      <th>CMPLNT_TO_TM</th>\n",
              "      <th>RPT_DT</th>\n",
              "      <th>KY_CD</th>\n",
              "      <th>OFNS_DESC</th>\n",
              "      <th>PD_CD</th>\n",
              "      <th>PD_DESC</th>\n",
              "      <th>CRM_ATPT_CPTD_CD</th>\n",
              "      <th>LAW_CAT_CD</th>\n",
              "      <th>JURIS_DESC</th>\n",
              "      <th>BORO_NM</th>\n",
              "      <th>ADDR_PCT_CD</th>\n",
              "      <th>LOC_OF_OCCUR_DESC</th>\n",
              "      <th>PREM_TYP_DESC</th>\n",
              "      <th>X_COORD_CD</th>\n",
              "      <th>Y_COORD_CD</th>\n",
              "      <th>Latitude</th>\n",
              "      <th>Longitude</th>\n",
              "      <th>Lat_Lon</th>\n",
              "      <th>date2</th>\n",
              "    </tr>\n",
              "  </thead>\n",
              "  <tbody>\n",
              "    <tr>\n",
              "      <th>27341</th>\n",
              "      <td>211843983</td>\n",
              "      <td>12/04/1015</td>\n",
              "      <td>16:45:00</td>\n",
              "      <td>NaN</td>\n",
              "      <td>NaN</td>\n",
              "      <td>12/10/2015</td>\n",
              "      <td>106</td>\n",
              "      <td>FELONY ASSAULT</td>\n",
              "      <td>109.0</td>\n",
              "      <td>ASSAULT 2,1,UNCLASSIFIED</td>\n",
              "      <td>COMPLETED</td>\n",
              "      <td>FELONY</td>\n",
              "      <td>N.Y. POLICE DEPT</td>\n",
              "      <td>MANHATTAN</td>\n",
              "      <td>18.0</td>\n",
              "      <td>INSIDE</td>\n",
              "      <td>STREET</td>\n",
              "      <td>991707.0</td>\n",
              "      <td>216641.0</td>\n",
              "      <td>40.761311</td>\n",
              "      <td>-73.973083</td>\n",
              "      <td>(40.761311039, -73.973083376)</td>\n",
              "      <td>NaT</td>\n",
              "    </tr>\n",
              "    <tr>\n",
              "      <th>27342</th>\n",
              "      <td>131106711</td>\n",
              "      <td>12/04/1015</td>\n",
              "      <td>12:30:00</td>\n",
              "      <td>12/10/2015</td>\n",
              "      <td>12:40:00</td>\n",
              "      <td>12/10/2015</td>\n",
              "      <td>344</td>\n",
              "      <td>ASSAULT 3 &amp; RELATED OFFENSES</td>\n",
              "      <td>101.0</td>\n",
              "      <td>ASSAULT 3</td>\n",
              "      <td>COMPLETED</td>\n",
              "      <td>MISDEMEANOR</td>\n",
              "      <td>N.Y. POLICE DEPT</td>\n",
              "      <td>QUEENS</td>\n",
              "      <td>108.0</td>\n",
              "      <td>NaN</td>\n",
              "      <td>STREET</td>\n",
              "      <td>1010228.0</td>\n",
              "      <td>211854.0</td>\n",
              "      <td>40.748137</td>\n",
              "      <td>-73.906245</td>\n",
              "      <td>(40.748136928, -73.906245306)</td>\n",
              "      <td>NaT</td>\n",
              "    </tr>\n",
              "    <tr>\n",
              "      <th>39052</th>\n",
              "      <td>821425869</td>\n",
              "      <td>11/25/1015</td>\n",
              "      <td>14:30:00</td>\n",
              "      <td>12/1/2015</td>\n",
              "      <td>14:40:00</td>\n",
              "      <td>12/1/2015</td>\n",
              "      <td>109</td>\n",
              "      <td>GRAND LARCENY</td>\n",
              "      <td>405.0</td>\n",
              "      <td>LARCENY,GRAND BY THEFT OF CREDIT CARD</td>\n",
              "      <td>COMPLETED</td>\n",
              "      <td>FELONY</td>\n",
              "      <td>N.Y. POLICE DEPT</td>\n",
              "      <td>BROOKLYN</td>\n",
              "      <td>94.0</td>\n",
              "      <td>INSIDE</td>\n",
              "      <td>GYM/FITNESS FACILITY</td>\n",
              "      <td>994636.0</td>\n",
              "      <td>200707.0</td>\n",
              "      <td>40.717573</td>\n",
              "      <td>-73.962535</td>\n",
              "      <td>(40.717573206, -73.962534952)</td>\n",
              "      <td>NaT</td>\n",
              "    </tr>\n",
              "    <tr>\n",
              "      <th>48548</th>\n",
              "      <td>161924074</td>\n",
              "      <td>09/26/1015</td>\n",
              "      <td>12:11:00</td>\n",
              "      <td>11/23/2015</td>\n",
              "      <td>13:00:00</td>\n",
              "      <td>11/23/2015</td>\n",
              "      <td>109</td>\n",
              "      <td>GRAND LARCENY</td>\n",
              "      <td>415.0</td>\n",
              "      <td>LARCENY,GRAND FROM PERSON,PICK</td>\n",
              "      <td>COMPLETED</td>\n",
              "      <td>FELONY</td>\n",
              "      <td>N.Y. POLICE DEPT</td>\n",
              "      <td>MANHATTAN</td>\n",
              "      <td>25.0</td>\n",
              "      <td>NaN</td>\n",
              "      <td>STREET</td>\n",
              "      <td>1001575.0</td>\n",
              "      <td>232339.0</td>\n",
              "      <td>40.804384</td>\n",
              "      <td>-73.937422</td>\n",
              "      <td>(40.804384046, -73.937421669)</td>\n",
              "      <td>NaT</td>\n",
              "    </tr>\n",
              "  </tbody>\n",
              "</table>\n",
              "</div>"
            ],
            "text/plain": [
              "       CMPLNT_NUM CMPLNT_FR_DT  ...                        Lat_Lon date2\n",
              "27341   211843983   12/04/1015  ...  (40.761311039, -73.973083376)   NaT\n",
              "27342   131106711   12/04/1015  ...  (40.748136928, -73.906245306)   NaT\n",
              "39052   821425869   11/25/1015  ...  (40.717573206, -73.962534952)   NaT\n",
              "48548   161924074   09/26/1015  ...  (40.804384046, -73.937421669)   NaT\n",
              "\n",
              "[4 rows x 23 columns]"
            ]
          },
          "metadata": {},
          "execution_count": 6
        }
      ]
    },
    {
      "cell_type": "code",
      "source": [
        "#Parameter - errors = 'coerce' will convert all dates which are OK\n",
        "#and the rest will be NAT\n",
        "date_format = pd.to_datetime(df['RPT_DT'], errors = 'coerce')"
      ],
      "metadata": {
        "id": "arE2FTqAdoNM"
      },
      "execution_count": null,
      "outputs": []
    },
    {
      "cell_type": "code",
      "source": [
        "#Date 2 is now the new 'CMPLNT_TO_DT'(Date the complaint was reported)\n",
        "df['date2'].sum"
      ],
      "metadata": {
        "colab": {
          "base_uri": "https://localhost:8080/"
        },
        "id": "_j3WNAHtgh8F",
        "outputId": "3f5dd159-5f90-4514-9f8a-f8ddfe3a8b0c"
      },
      "execution_count": null,
      "outputs": [
        {
          "output_type": "execute_result",
          "data": {
            "text/plain": [
              "<bound method Series.sum of 0         2015-12-31\n",
              "1         2015-12-31\n",
              "2         2015-12-31\n",
              "3         2015-12-31\n",
              "4         2015-12-31\n",
              "             ...    \n",
              "1048570   2013-11-01\n",
              "1048571   2013-11-01\n",
              "1048572   2013-11-01\n",
              "1048573   2013-11-01\n",
              "1048574   2013-11-01\n",
              "Name: date2, Length: 1048575, dtype: datetime64[ns]>"
            ]
          },
          "metadata": {},
          "execution_count": 50
        }
      ]
    },
    {
      "cell_type": "code",
      "source": [
        "#Created new column 'month'\n",
        "df.insert(2,'Month',0)"
      ],
      "metadata": {
        "id": "bcdnX7xVl5ty"
      },
      "execution_count": 6,
      "outputs": []
    },
    {
      "cell_type": "code",
      "source": [
        "#Now i will extract the month value from the date2 column \n",
        "#to see what the most popular month for reporting crimes\n",
        "df['Month'] = pd.DatetimeIndex(df['date2']).month"
      ],
      "metadata": {
        "id": "JA-rJmO3lGwK"
      },
      "execution_count": 7,
      "outputs": []
    },
    {
      "cell_type": "code",
      "source": [
        "#Created new column 'Year'\n",
        "df.insert(3,'Year',0)"
      ],
      "metadata": {
        "id": "67zn5JqXoCFx"
      },
      "execution_count": 8,
      "outputs": []
    },
    {
      "cell_type": "code",
      "source": [
        "#Now i will extract the year value from the date2 column \n",
        "#to see what the most popular year for reporting crimes\n",
        "df['Year'] = pd.DatetimeIndex(df['date2']).year"
      ],
      "metadata": {
        "id": "I94whG8Zop3Q"
      },
      "execution_count": 9,
      "outputs": []
    },
    {
      "cell_type": "code",
      "source": [
        "df.head()"
      ],
      "metadata": {
        "id": "l-G7iKpnpJl_"
      },
      "execution_count": null,
      "outputs": []
    },
    {
      "cell_type": "code",
      "source": [
        "#Check the current index of the data\n",
        "df['date2'].index"
      ],
      "metadata": {
        "colab": {
          "base_uri": "https://localhost:8080/"
        },
        "id": "kCORnyhWteCe",
        "outputId": "b39bba2a-3ec3-4fa6-d035-c19eda875ae2"
      },
      "execution_count": null,
      "outputs": [
        {
          "output_type": "execute_result",
          "data": {
            "text/plain": [
              "RangeIndex(start=0, stop=1048575, step=1)"
            ]
          },
          "metadata": {},
          "execution_count": 96
        }
      ]
    },
    {
      "cell_type": "code",
      "source": [
        "#Slice indexes via .loc Method\n",
        "#Select range, 500 reported crimes in this date range\n",
        "date_range = df['date2'].loc['2010-01-01':'2015-12-31']"
      ],
      "metadata": {
        "id": "D-pjFyOqwKGp"
      },
      "execution_count": null,
      "outputs": []
    },
    {
      "cell_type": "code",
      "source": [
        "#As the year goes on crime tends to increase, December and November being the \n",
        "#most, maybe because of the holiday season.\n",
        "#Unable to get rid of the '.0' at the end of the month value.\n",
        "df.groupby('Month').size().plot(kind = 'bar',\n",
        "          title ='Crimes Reported by month', color = 'green')"
      ],
      "metadata": {
        "colab": {
          "base_uri": "https://localhost:8080/",
          "height": 315
        },
        "id": "oXxbVuOZyCpo",
        "outputId": "bf830e21-557a-4f20-915f-c8762aa76a5e"
      },
      "execution_count": 10,
      "outputs": [
        {
          "output_type": "execute_result",
          "data": {
            "text/plain": [
              "<matplotlib.axes._subplots.AxesSubplot at 0x7f3fa63194d0>"
            ]
          },
          "metadata": {},
          "execution_count": 10
        },
        {
          "output_type": "display_data",
          "data": {
            "image/png": "[encoded data removed]",
            "text/plain": [
              "<Figure size 432x288 with 1 Axes>"
            ]
          },
          "metadata": {
            "needs_background": "light"
          }
        }
      ]
    },
    {
      "cell_type": "code",
      "source": [
        "#As you can see by this, most of the values are from 2013 onwards, alot\n",
        "#of the values were entered incorrectly in, so they are \"NAT\" now from\n",
        "#converting them to a datetime object earlier, this has kind of skewed\n",
        "#the dataset.\n",
        "\n",
        "df['Year'].value_counts().plot(kind = 'line',\n",
        "                               title = 'Crimes reported by year', color = 'blue')"
      ],
      "metadata": {
        "colab": {
          "base_uri": "https://localhost:8080/",
          "height": 298
        },
        "id": "U3sCOhJR0jVf",
        "outputId": "cabf432f-d42e-4e76-8e52-2df14346f9cc"
      },
      "execution_count": 11,
      "outputs": [
        {
          "output_type": "execute_result",
          "data": {
            "text/plain": [
              "<matplotlib.axes._subplots.AxesSubplot at 0x7f3f54f4eb50>"
            ]
          },
          "metadata": {},
          "execution_count": 11
        },
        {
          "output_type": "display_data",
          "data": {
            "image/png": "[encoded data removed]",
            "text/plain": [
              "<Figure size 432x288 with 1 Axes>"
            ]
          },
          "metadata": {
            "needs_background": "light"
          }
        }
      ]
    },
    {
      "cell_type": "code",
      "source": [
        "#Generally an upwards trajectory of crimes reported as the year goes on\n",
        "#Why is this? must look at factors that cause this\n",
        "df['Month'].value_counts().plot(kind = 'line',\n",
        "                               title = 'Crimes reported by year', color = 'blue')"
      ],
      "metadata": {
        "id": "stsJeFon7Lz0",
        "colab": {
          "base_uri": "https://localhost:8080/",
          "height": 298
        },
        "outputId": "7e6e6fce-5b96-444e-de4c-2788149ccfcf"
      },
      "execution_count": 12,
      "outputs": [
        {
          "output_type": "execute_result",
          "data": {
            "text/plain": [
              "<matplotlib.axes._subplots.AxesSubplot at 0x7f3f54ebf690>"
            ]
          },
          "metadata": {},
          "execution_count": 12
        },
        {
          "output_type": "display_data",
          "data": {
            "image/png": "[encoded data removed]",
            "text/plain": [
              "<Figure size 432x288 with 1 Axes>"
            ]
          },
          "metadata": {
            "needs_background": "light"
          }
        }
      ]
    },
    {
      "cell_type": "code",
      "source": [
        "#See if the level of crime gets worse as the year goes on \n",
        "df.LAW_CAT_CD.value_counts().iloc[:5].sort_values().plot(kind=\"barh\", title = \"Level of Offense in NYC\")"
      ],
      "metadata": {
        "colab": {
          "base_uri": "https://localhost:8080/",
          "height": 298
        },
        "id": "yjiS1rll8EMx",
        "outputId": "0f93e195-c1ca-419b-dfc3-4196ac8984c2"
      },
      "execution_count": null,
      "outputs": [
        {
          "output_type": "execute_result",
          "data": {
            "text/plain": [
              "<matplotlib.axes._subplots.AxesSubplot at 0x7f94020ed510>"
            ]
          },
          "metadata": {},
          "execution_count": 17
        },
        {
          "output_type": "display_data",
          "data": {
            "image/png": "[encoded data removed]",
            "text/plain": [
              "<Figure size 432x288 with 1 Axes>"
            ]
          },
          "metadata": {
            "needs_background": "light"
          }
        }
      ]
    },
    {
      "cell_type": "code",
      "source": [
        "#Occured another problem, says there is nan value relationg to bar/nightclub\n",
        "(df.PREM_TYP_DESC == 'STREET').sum()"
      ],
      "metadata": {
        "colab": {
          "base_uri": "https://localhost:8080/"
        },
        "id": "N9hK0U1F_FSF",
        "outputId": "a5e87dd4-1d67-4054-f071-d2f51f03d439"
      },
      "execution_count": null,
      "outputs": [
        {
          "output_type": "execute_result",
          "data": {
            "text/plain": [
              "20432"
            ]
          },
          "metadata": {},
          "execution_count": 31
        }
      ]
    },
    {
      "cell_type": "code",
      "source": [
        "#see the time of the day where the street crimes happen\n",
        "df.insert(6,'Hour',0)"
      ],
      "metadata": {
        "id": "GrEEUNwKt5jE"
      },
      "execution_count": 13,
      "outputs": []
    },
    {
      "cell_type": "code",
      "source": [
        "df.head()"
      ],
      "metadata": {
        "id": "lm9P1WTPyCDz"
      },
      "execution_count": null,
      "outputs": []
    },
    {
      "cell_type": "code",
      "source": [
        "#Extracting the hour from the 'CMPLNT_FR_TM' column and putting it in the Time\n",
        "#column.\n",
        "df['Hour'] = pd.to_datetime(df['CMPLNT_FR_TM'], format='%H:%M:%S').dt.hour"
      ],
      "metadata": {
        "id": "xY_wFAazzLOM"
      },
      "execution_count": 14,
      "outputs": []
    },
    {
      "cell_type": "code",
      "source": [
        "#Drop two more columns as they are no longer needed, almost 20 percent unknown \n",
        "#value in each of them.\n",
        "df.drop(['CMPLNT_TO_DT','CMPLNT_TO_TM'],axis=1,inplace=True)"
      ],
      "metadata": {
        "id": "O21NoTD30ZyM"
      },
      "execution_count": 15,
      "outputs": []
    },
    {
      "cell_type": "code",
      "source": [
        "df.head()"
      ],
      "metadata": {
        "id": "3dOx8iyM2IY2"
      },
      "execution_count": null,
      "outputs": []
    },
    {
      "cell_type": "code",
      "source": [
        "#surprisingly most of the crime reported is in the afternoon and evening\n",
        "df.groupby('Hour').size().plot(kind = 'bar',\n",
        "          title ='Crimes Reported by hour', color = 'green')"
      ],
      "metadata": {
        "colab": {
          "base_uri": "https://localhost:8080/",
          "height": 315
        },
        "id": "SC5bAQDZ5izz",
        "outputId": "e079edc6-3b2c-4f1d-f6c7-ccf44630ea82"
      },
      "execution_count": 17,
      "outputs": [
        {
          "output_type": "execute_result",
          "data": {
            "text/plain": [
              "<matplotlib.axes._subplots.AxesSubplot at 0x7f3fa0ecc7d0>"
            ]
          },
          "metadata": {},
          "execution_count": 17
        },
        {
          "output_type": "display_data",
          "data": {
            "image/png": "[encoded data removed]",
            "text/plain": [
              "<Figure size 432x288 with 1 Axes>"
            ]
          },
          "metadata": {
            "needs_background": "light"
          }
        }
      ]
    },
    {
      "cell_type": "code",
      "source": [
        "df.PREM_TYP_DESC.str.contains(\"STREET\")"
      ],
      "metadata": {
        "colab": {
          "base_uri": "https://localhost:8080/"
        },
        "id": "L0AkYIZW7-RY",
        "outputId": "a8b43c66-1fd3-4700-93f5-d8dd32b39c18"
      },
      "execution_count": 117,
      "outputs": [
        {
          "output_type": "execute_result",
          "data": {
            "text/plain": [
              "0          False\n",
              "1            NaN\n",
              "2          False\n",
              "3          False\n",
              "4          False\n",
              "           ...  \n",
              "1048570    False\n",
              "1048571    False\n",
              "1048572    False\n",
              "1048573     True\n",
              "1048574    False\n",
              "Name: PREM_TYP_DESC, Length: 1048575, dtype: object"
            ]
          },
          "metadata": {},
          "execution_count": 117
        }
      ]
    },
    {
      "cell_type": "code",
      "source": [
        "df.head()"
      ],
      "metadata": {
        "id": "Fwf4o4hCBfzs"
      },
      "execution_count": null,
      "outputs": []
    },
    {
      "cell_type": "code",
      "source": [
        ""
      ],
      "metadata": {
        "id": "nwI_CBmwJZVH"
      },
      "execution_count": null,
      "outputs": []
    },
    {
      "cell_type": "code",
      "source": [
        "#Set all na values to false as i couldn't create a variable from column\n",
        "#as i was getting errors to do with na values.\n",
        "#df.PREM_TYP_DESC.str.contains(\"STREET\",nan=False)\n",
        "street_crime = df[df['PREM_TYP_DESC'].str.contains(\"STREET\") == True]"
      ],
      "metadata": {
        "id": "7_SWfRty83UE"
      },
      "execution_count": 19,
      "outputs": []
    },
    {
      "cell_type": "code",
      "source": [
        "(df.Month =='11','12')"
      ],
      "metadata": {
        "colab": {
          "base_uri": "https://localhost:8080/"
        },
        "id": "Dpre7UxiLtRs",
        "outputId": "7fd9cb16-0d5c-44dd-e498-a51c8361a67c"
      },
      "execution_count": 23,
      "outputs": [
        {
          "output_type": "execute_result",
          "data": {
            "text/plain": [
              "(0          False\n",
              " 1          False\n",
              " 2          False\n",
              " 3          False\n",
              " 4          False\n",
              "            ...  \n",
              " 1048570    False\n",
              " 1048571    False\n",
              " 1048572    False\n",
              " 1048573    False\n",
              " 1048574    False\n",
              " Name: Month, Length: 1048575, dtype: bool, '12')"
            ]
          },
          "metadata": {},
          "execution_count": 23
        }
      ]
    },
    {
      "cell_type": "code",
      "source": [
        "#ax =df.plot.bar(x=df['Month'], y=street_crime, rot=0)"
      ],
      "metadata": {
        "id": "hn8NILh__d0G"
      },
      "execution_count": null,
      "outputs": []
    }
  ]
}